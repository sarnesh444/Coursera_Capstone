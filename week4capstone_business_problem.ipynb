{
  "nbformat": 4,
  "nbformat_minor": 0,
  "metadata": {
    "colab": {
      "name": "week4capstone_business_problem.ipynb",
      "provenance": [],
      "include_colab_link": true
    },
    "kernelspec": {
      "name": "python3",
      "display_name": "Python 3"
    }
  },
  "cells": [
    {
      "cell_type": "markdown",
      "metadata": {
        "id": "view-in-github",
        "colab_type": "text"
      },
      "source": [
        "<a href=\"https://colab.research.google.com/github/sarnesh444/Coursera_Capstone/blob/master/week4capstone_business_problem.ipynb\" target=\"_parent\"><img src=\"https://colab.research.google.com/assets/colab-badge.svg\" alt=\"Open In Colab\"/></a>"
      ]
    },
    {
      "cell_type": "markdown",
      "metadata": {
        "id": "MTZTJjaVJKg-",
        "colab_type": "text"
      },
      "source": [
        "# Predicting the best location for a business startups in a particular neighborhood"
      ]
    },
    {
      "cell_type": "markdown",
      "metadata": {
        "id": "wBVKHpY2JQby",
        "colab_type": "text"
      },
      "source": [
        "## Introduction"
      ]
    },
    {
      "cell_type": "markdown",
      "metadata": {
        "id": "-F5t4YXBJUvM",
        "colab_type": "text"
      },
      "source": [
        "Toronto is the provincial capital of Ontario and the most populous city in Canada, with a population of 2,731,571 in 2016. Toronto is an international center of business, finance, arts, and culture, and is recognized as one of the most multicultural and cosmopolitan cities in the world. The diverse population of Toronto reflects its current and historical role as an important destination for immigrants to Canada."
      ]
    },
    {
      "cell_type": "markdown",
      "metadata": {
        "id": "el0yygh2JX6g",
        "colab_type": "text"
      },
      "source": [
        "## Business Problem"
      ]
    },
    {
      "cell_type": "markdown",
      "metadata": {
        "id": "rU2-9LHXJdPv",
        "colab_type": "text"
      },
      "source": [
        "A way to increase the productivity and reach of a startup is to set it up in a location which is popular and there is a better chance for business. So in order to find this place, we have to research the data of various venues and places in the region. There are various datasets and information regarding different places and venues available on the Internet. We use this data to find the best places which would enable the business startups to succeed.\n",
        "\n",
        "Even if you have a well functioning business startup, it is important that it is set up at the right place. So, the above mentioned process will help in maximizing the efficiency of the startup. Instead of selecting with an basic assumption it would be nice to use the data relating to the nearby venues in particular neighborhood (needed by the customer) and providing him the best areas to open his/her business."
      ]
    },
    {
      "cell_type": "code",
      "metadata": {
        "id": "B61yXm5TJelM",
        "colab_type": "code",
        "colab": {}
      },
      "source": [
        ""
      ],
      "execution_count": 0,
      "outputs": []
    }
  ]
}