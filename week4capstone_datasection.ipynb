{
  "nbformat": 4,
  "nbformat_minor": 0,
  "metadata": {
    "colab": {
      "name": "week4capstone_datasection.ipynb",
      "provenance": [],
      "include_colab_link": true
    },
    "kernelspec": {
      "name": "python3",
      "display_name": "Python 3"
    }
  },
  "cells": [
    {
      "cell_type": "markdown",
      "metadata": {
        "id": "view-in-github",
        "colab_type": "text"
      },
      "source": [
        "<a href=\"https://colab.research.google.com/github/sarnesh444/Coursera_Capstone/blob/master/week4capstone_datasection.ipynb\" target=\"_parent\"><img src=\"https://colab.research.google.com/assets/colab-badge.svg\" alt=\"Open In Colab\"/></a>"
      ]
    },
    {
      "cell_type": "markdown",
      "metadata": {
        "id": "72uawuUFKZK1",
        "colab_type": "text"
      },
      "source": [
        "# Predicting the best location for a business startups in a particular neighborhood"
      ]
    },
    {
      "cell_type": "markdown",
      "metadata": {
        "id": "JYoLGlDFKhGy",
        "colab_type": "text"
      },
      "source": [
        "# Data Section for week4 capstone"
      ]
    },
    {
      "cell_type": "markdown",
      "metadata": {
        "id": "xWbzDzZDKl3n",
        "colab_type": "text"
      },
      "source": [
        "## Data Sources"
      ]
    },
    {
      "cell_type": "markdown",
      "metadata": {
        "id": "53nLRPp0KrZu",
        "colab_type": "text"
      },
      "source": [
        "1. Data of neighborhoods and respective postal codes are gathered by scraping the web page (Wikipedia).\n",
        "2.Using the postal codes the latitude and longitude locations of that respective neighborhoods are gathered from a \".csv\" file provided on the Internet.\n",
        "3.Data relating to the venues in a certain neighborhood according to the postal codes are gathered using the FOURSQUARE API.\n"
      ]
    },
    {
      "cell_type": "markdown",
      "metadata": {
        "id": "INPl0aY6LEEv",
        "colab_type": "text"
      },
      "source": [
        "# Data Cleaning"
      ]
    },
    {
      "cell_type": "markdown",
      "metadata": {
        "id": "fx1H4PwfLG_c",
        "colab_type": "text"
      },
      "source": [
        "1. The data obtained from the Wikipedia page is taken as HTML text at first so it taken into a pandas data frame.\n",
        "2.Then the rows with 'Borough' as 'Not assigned' are dropped.\n",
        "All the rows with 'Neighborhood' feature as 'Not assigned' are replaced with it 'Borough' feature.\n",
        "3.Then the locations are grouped according to the postal codes.\n",
        "4.The \".csv\" file is converted to a data frame .\n",
        "5.Latitude and longitude are filtered out according to the postal codes and are stored in 'latitude' ,'longitude' features of the previous data frame."
      ]
    },
    {
      "cell_type": "markdown",
      "metadata": {
        "id": "mz200lBxLxdi",
        "colab_type": "text"
      },
      "source": [
        "# Features"
      ]
    },
    {
      "cell_type": "markdown",
      "metadata": {
        "id": "sUP-9LSOL35N",
        "colab_type": "text"
      },
      "source": [
        "1. Postalcode - contains the postal codes of the boroughs in Toronto.\n",
        "2.Borough - stores the Borough name.\n",
        "3.Neighborhood -contains comma seperated list of all the neighborhoods that come under the Postalcode and Borough\n",
        "4.Latitude - contains the latitude of that region obtained using the postalcode.\n",
        "5.Longitude - contains the longitude of that region obtained using the postalcode."
      ]
    }
  ]
}