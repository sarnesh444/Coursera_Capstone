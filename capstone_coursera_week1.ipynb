{
  "nbformat": 4,
  "nbformat_minor": 0,
  "metadata": {
    "colab": {
      "name": "capstone_coursera_week1.ipynb",
      "provenance": []
    },
    "kernelspec": {
      "name": "python3",
      "display_name": "Python 3"
    }
  },
  "cells": [
    {
      "cell_type": "markdown",
      "metadata": {
        "id": "VsGiJ_WW10Lj",
        "colab_type": "text"
      },
      "source": [
        "This notebook \"capstone_coursera_week1.ipynb\" is used for week:1 Peergraded Assignment of Applied Data Science with Capstone "
      ]
    },
    {
      "cell_type": "code",
      "metadata": {
        "id": "0opwG6dt2UAz",
        "colab_type": "code",
        "colab": {}
      },
      "source": [
        "import pandas as pd #importing pandas library"
      ],
      "execution_count": 0,
      "outputs": []
    },
    {
      "cell_type": "code",
      "metadata": {
        "id": "lyHVQWq62oHd",
        "colab_type": "code",
        "colab": {}
      },
      "source": [
        "import numpy as np #importing numpy library"
      ],
      "execution_count": 0,
      "outputs": []
    },
    {
      "cell_type": "code",
      "metadata": {
        "id": "owDskqVD2s3G",
        "colab_type": "code",
        "colab": {
          "base_uri": "https://localhost:8080/",
          "height": 34
        },
        "outputId": "b65874ed-c45d-44e9-d2a8-efadab220a5e"
      },
      "source": [
        "print(\"Hello Capstone Project Course!\")"
      ],
      "execution_count": 3,
      "outputs": [
        {
          "output_type": "stream",
          "text": [
            "Hello Capstone Project Course!\n"
          ],
          "name": "stdout"
        }
      ]
    },
    {
      "cell_type": "code",
      "metadata": {
        "id": "dmm9qzOV20fc",
        "colab_type": "code",
        "colab": {}
      },
      "source": [
        ""
      ],
      "execution_count": 0,
      "outputs": []
    }
  ]
}